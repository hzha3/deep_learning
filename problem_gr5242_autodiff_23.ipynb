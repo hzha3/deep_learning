{
 "cells": [
  {
   "cell_type": "markdown",
   "metadata": {
    "id": "U0679FMjuAQV"
   },
   "source": [
    "# **GR5242 HW03 Problem 1: Automatic Differentiation**\n",
    "\n",
    "**Instructions**: This problem is an individual assignment -- you are to complete this problem on your own, without conferring with your classmates.  You should submit a completed and published notebook to Courseworks; no other files will be accepted.\n",
    "\n",
    "## Description:\n",
    "\n",
    "This homework adds more detail to the autodiff lecture in class. There are seven questions (30 points) in total, which include coding and written questions. You can only modify the codes and text within \\### YOUR CODE HERE ### and/or \\### YOUR ANSWER HERE ###.\n"
   ]
  },
  {
   "cell_type": "code",
   "execution_count": 1,
   "metadata": {
    "id": "XSFRWzPgRW1S"
   },
   "outputs": [],
   "source": [
    "import torch\n",
    "import matplotlib.pyplot as plt\n",
    "import numpy as np\n",
    "from datetime import datetime\n",
    "import sympy as sym"
   ]
  },
  {
   "cell_type": "markdown",
   "metadata": {
    "id": "_B6xtlRiMZ4z"
   },
   "source": [
    "## Differentiation"
   ]
  },
  {
   "cell_type": "markdown",
   "metadata": {
    "id": "QkLs4MRfMeBK"
   },
   "source": [
    "**Different ways of differentiation:** In this problem we consider a particular function (which we call it an `op` in the code block, short for operation) $f:\\mathbb{R} \\to \\mathbb{R}: x \\mapsto 4x(1-x)$ and it's compositions with itself. Let us define,\n",
    "$$ g_n: \\underbrace{f \\circ \\dots \\circ f}_{n \\text{ times}}: x \\mapsto f^{(n)}(x) $$\n",
    "where $f^{(n)}(x) = f(f^{(n-1)}(x))$ is the $n$ times composited function $f$ with itself. The goal of this problem is to explore various ways of differentiation, i.e. $\\frac{d}{dx}g_{n}(x)$ which are listed below:\n",
    "- Numerical differentiation\n",
    "- Symbolic differentiation\n",
    "- Autodiff in forward or reverse mode"
   ]
  },
  {
   "cell_type": "code",
   "execution_count": 2,
   "metadata": {
    "id": "yeN0UEVXMgj5"
   },
   "outputs": [],
   "source": [
    "def op(inp):\n",
    "    return 4 * inp * ( 1 - inp )\n",
    "\n",
    "def operation(inp, n = 1):\n",
    "    temp = inp\n",
    "    for i in range(n):\n",
    "        temp = op(temp)\n",
    "    return temp\n",
    "    "
   ]
  },
  {
   "cell_type": "markdown",
   "metadata": {
    "id": "-nHw-ZVUvLUE"
   },
   "source": [
    "## Numerical Differentiation\n",
    "\n",
    "Based on the definition of derivative at a particular point $x_0$,\n",
    "\n",
    "$$ \\frac{d}{dx}g_n(x_0) = \\lim_{h \\to 0} \\frac{g_n(x_0+h) - g_n(x_0)}{h} =: \\lim_{h \\to 0} D_h g_n(x_0) $$\n",
    "\n",
    "The formula above suggests a simple way of **approximating** the derivative by taking $D_{h}g_n(x_0)$ for a particular choice of $h$ as your approximate derivative. This is also known as the [finite difference](https://en.wikipedia.org/wiki/Numerical_differentiation) method. Note that this approach only requires evaluation of your function around the point you are trying to take the derivative at so it's computationally efficient but the caveat is that choosing a proper $h$ to obtain good enough approximations is generally hard (specially when the function is multivariate). However, in our case we have some structure over the function we are trying to take derivative of.\n",
    "\n",
    "**Question 1 (3 points)**: Use a finite difference with tolerance 1e-12 to approximate the derivative of $g_3(x)$ at $x=1$:"
   ]
  },
  {
   "cell_type": "code",
   "execution_count": 3,
   "metadata": {
    "id": "u2mqa0N1xgD_"
   },
   "outputs": [
    {
     "data": {
      "text/plain": [
       "-64.00568963861407"
      ]
     },
     "execution_count": 3,
     "metadata": {},
     "output_type": "execute_result"
    }
   ],
   "source": [
    "tol = 1e-12\n",
    "### Your Code Here ###\n",
    "(operation(inp=1+tol, n=3)-operation(inp=1, n=3))/ tol"
   ]
  },
  {
   "cell_type": "markdown",
   "metadata": {
    "id": "qXTYdS8ZDTZt"
   },
   "source": [
    "The approximation will be bad at certain points $x$, and becomes less stable as $n$ becomes larger for a fixed $h$ (or as the dimensionality of the function grows).  "
   ]
  },
  {
   "cell_type": "markdown",
   "metadata": {
    "id": "umbqG5P5a5pi"
   },
   "source": [
    "## Calculus and (manual/symbolic) differentiation\n",
    "\n",
    "Notice that $f$ is a polynomial and that composition of polynomials yields also a polynomial. Therefore, $g_n$ is a polynomial with degree $2^n$ (try to argue this for yourself using induction); we can compute the derivative using  calculus.\n",
    "\n",
    "Instead of computing the derivative by hand we use the help of an auxillary package `sympy` and try to compute the derivative. This package uses symbolic variables and traces operations such as add, multiplication, division, etc., applied onto these variables and computes the derivative using chain rule.\n",
    "\n",
    "It is not difficult to (manually) derive a closed form expression for $g_n$ using the recursive formula\n",
    "$$ g_n(x) = 4 g_{n-1}(x) (1-g_{n-1}(x)), \\quad g_{1}(x) = 4x(1-x).$$  \n",
    "The following block of code prints this closed form expression in terms of a symbolic variable `X`."
   ]
  },
  {
   "cell_type": "code",
   "execution_count": 4,
   "metadata": {
    "id": "Kuijq55eM_YJ"
   },
   "outputs": [],
   "source": [
    "X = sym.Symbol('X') # Create a symbolic variable\n",
    "sym.init_printing(use_unicode=False, wrap_line=True)"
   ]
  },
  {
   "cell_type": "markdown",
   "metadata": {
    "id": "pMebchBYdrbO"
   },
   "source": [
    "Now that we have the closed form expression, we may use the chain rule to express the derivative of $g_n$."
   ]
  },
  {
   "cell_type": "code",
   "execution_count": 5,
   "metadata": {
    "colab": {
     "base_uri": "https://localhost:8080/",
     "height": 101
    },
    "id": "WXjaKBNOdgRQ",
    "outputId": "53875ec3-a3f9-427d-e77e-f860749b7fe5"
   },
   "outputs": [
    {
     "name": "stderr",
     "output_type": "stream",
     "text": [
      "C:\\Users\\zha\\.conda\\envs\\tf2\\lib\\site-packages\\IPython\\lib\\latextools.py:126: MatplotlibDeprecationWarning: \n",
      "The to_png function was deprecated in Matplotlib 3.4 and will be removed two minor releases later. Use mathtext.math_to_image instead.\n",
      "  mt.to_png(f, s, fontsize=12, dpi=dpi, color=color)\n",
      "C:\\Users\\zha\\.conda\\envs\\tf2\\lib\\site-packages\\IPython\\lib\\latextools.py:126: MatplotlibDeprecationWarning: \n",
      "The to_rgba function was deprecated in Matplotlib 3.4 and will be removed two minor releases later. Use mathtext.math_to_image instead.\n",
      "  mt.to_png(f, s, fontsize=12, dpi=dpi, color=color)\n",
      "C:\\Users\\zha\\.conda\\envs\\tf2\\lib\\site-packages\\IPython\\lib\\latextools.py:126: MatplotlibDeprecationWarning: \n",
      "The to_mask function was deprecated in Matplotlib 3.4 and will be removed two minor releases later. Use mathtext.math_to_image instead.\n",
      "  mt.to_png(f, s, fontsize=12, dpi=dpi, color=color)\n",
      "C:\\Users\\zha\\.conda\\envs\\tf2\\lib\\site-packages\\IPython\\lib\\latextools.py:126: MatplotlibDeprecationWarning: \n",
      "The MathtextBackendBitmap class was deprecated in Matplotlib 3.4 and will be removed two minor releases later. Use mathtext.math_to_image instead.\n",
      "  mt.to_png(f, s, fontsize=12, dpi=dpi, color=color)\n"
     ]
    },
    {
     "data": {
      "image/png": "[encoded data removed]",
      "text/latex": [
       "$\\displaystyle 64 X \\left(1 - X\\right) \\left(8 X - 4\\right) \\left(- 16 X \\left(1 - X\\right) \\left(- 4 X \\left(1 - X\\right) + 1\\right) + 1\\right) + 64 X \\left(1 - X\\right) \\left(- 4 X \\left(1 - X\\right) + 1\\right) \\left(- 16 X \\left(1 - X\\right) \\left(8 X - 4\\right) + 16 X \\left(- 4 X \\left(1 - X\\right) + 1\\right) - 16 \\cdot \\left(1 - X\\right) \\left(- 4 X \\left(1 - X\\right) + 1\\right)\\right) - 64 X \\left(- 4 X \\left(1 - X\\right) + 1\\right) \\left(- 16 X \\left(1 - X\\right) \\left(- 4 X \\left(1 - X\\right) + 1\\right) + 1\\right) + 64 \\cdot \\left(1 - X\\right) \\left(- 4 X \\left(1 - X\\right) + 1\\right) \\left(- 16 X \\left(1 - X\\right) \\left(- 4 X \\left(1 - X\\right) + 1\\right) + 1\\right)$"
      ],
      "text/plain": [
       "64*X*(1 - X)*(8*X - 4)*(-16*X*(1 - X)*(-4*X*(1 - X) + 1) + 1) + 64*X*(1 - X)*(\n",
       "-4*X*(1 - X) + 1)*(-16*X*(1 - X)*(8*X - 4) + 16*X*(-4*X*(1 - X) + 1) - 16*(1 -\n",
       " X)*(-4*X*(1 - X) + 1)) - 64*X*(-4*X*(1 - X) + 1)*(-16*X*(1 - X)*(-4*X*(1 - X)\n",
       " + 1) + 1) + 64*(1 - X)*(-4*X*(1 - X) + 1)*(-16*X*(1 - X)*(-4*X*(1 - X) + 1) +\n",
       " 1)"
      ]
     },
     "execution_count": 5,
     "metadata": {},
     "output_type": "execute_result"
    }
   ],
   "source": [
    "Y = operation(X, 3)\n",
    "dydx_symbolic = sym.diff(Y, X)\n",
    "dydx_symbolic"
   ]
  },
  {
   "cell_type": "markdown",
   "metadata": {
    "id": "89wwtEqZ5NP1"
   },
   "source": [
    "**Question 2 (3 points):** Compute the exact derivative of $g_n(x)$ at $x=1$ by evaluating the symbolic expression."
   ]
  },
  {
   "cell_type": "code",
   "execution_count": 6,
   "metadata": {
    "id": "HB3DU8l29quU"
   },
   "outputs": [
    {
     "data": {
      "image/png": "[encoded data removed]",
      "text/latex": [
       "$\\displaystyle -64.0$"
      ],
      "text/plain": [
       "-64.0000000000000"
      ]
     },
     "execution_count": 6,
     "metadata": {},
     "output_type": "execute_result"
    }
   ],
   "source": [
    "# hint: read about subs/evalf here: https://docs.sympy.org/latest/modules/numeric-computation.html\n",
    "### Your Code Here ###\n",
    "from sympy import *\n",
    "from sympy.abc import x\n",
    "dydx_symbolic.evalf(subs={X: 1})"
   ]
  },
  {
   "cell_type": "markdown",
   "metadata": {
    "id": "XsxmwxI-q3-P"
   },
   "source": [
    "As it is evident the closed form expression for `dydx_symbolic` is unwieldy. We can make it more efficient by expanding and collecting all the terms. The goal is to represent the derivative as a natural polynomial. Yet this is another way of computing the derivative.\n",
    "\n",
    "**Question 3 (3 points):** Using the `sympy` documentation [page](https://docs.sympy.org/latest/tutorials/intro-tutorial/simplification.html) expand/simplify the closed form expression of $g_n(x)$ and print its derivative as a symbolic expression."
   ]
  },
  {
   "cell_type": "code",
   "execution_count": 7,
   "metadata": {
    "colab": {
     "base_uri": "https://localhost:8080/"
    },
    "id": "HsvD8llQTLTd",
    "outputId": "ff1af873-7498-4d74-b09c-d96f715f3cbe"
   },
   "outputs": [
    {
     "data": {
      "image/png": "[encoded data removed]",
      "text/latex": [
       "$\\displaystyle - 131072 X^{7} + 458752 X^{6} - 638976 X^{5} + 450560 X^{4} - 168960 X^{3} + 32256 X^{2} - 2688 X + 64$"
      ],
      "text/plain": [
       "          7           6           5           4           3          2        \n",
       "- 131072*X  + 458752*X  - 638976*X  + 450560*X  - 168960*X  + 32256*X  - 2688*\n",
       "\n",
       "      \n",
       "X + 64"
      ]
     },
     "execution_count": 7,
     "metadata": {},
     "output_type": "execute_result"
    }
   ],
   "source": [
    "### Your Code Here ###\n",
    "polynomial = dydx_symbolic\n",
    "dydx_symbolic_simplified = expand(polynomial)\n",
    "dydx_symbolic_simplified # This should express a polynomial of degree 2^n - 1."
   ]
  },
  {
   "cell_type": "markdown",
   "metadata": {
    "id": "3jtG76lBAaVF"
   },
   "source": [
    "Now that we have a compact closed form for the derivative we can evaluate it efficiently at various values of $x$.\n",
    "\n",
    "**Question 4 (2 points):** Evaluate `dydx_symbolic_simplified` at $x=1$."
   ]
  },
  {
   "cell_type": "code",
   "execution_count": 8,
   "metadata": {
    "id": "k2CyEQcHp1HN"
   },
   "outputs": [
    {
     "data": {
      "image/png": "[encoded data removed]",
      "text/latex": [
       "$\\displaystyle \\left( -64.0, \\  -64\\right)$"
      ],
      "text/plain": [
       "(-64.0, -64)"
      ]
     },
     "execution_count": 8,
     "metadata": {},
     "output_type": "execute_result"
    }
   ],
   "source": [
    "### Your Code Here ###\n",
    "dydx_symbolic_simplified.evalf(subs={X: 1}), -131072+458752-638976+450560-168960+32256-2688+64"
   ]
  },
  {
   "cell_type": "markdown",
   "metadata": {
    "id": "_JdYOJFyBKgh"
   },
   "source": [
    "## Chain Rule and Autodiff\n",
    "\n",
    "As we've seen in the previous part, symbolic engines computes the derivative using **some** closed form expression of the function. In particular, `sympy` simplified the **recursive** operation and expressed the function $g_n$ in terms of basic operations over the symbolic variable `X`. On the other hand, Autodiff does not necessarily simplify these operations and apply chain rule directly to the latest operation either in forward or backward mode.\n",
    "\n",
    "\n",
    "**Question 5 (4 points):** Using the recursive representation $g_n(x) = f(g_{n-1}(x))$ calculate the derivative of $g_n$ as a function of $g_{n-1}$ and $g^{'}_{n-1}$.  (To be clear, this part is not code; write the mathematical expression below)"
   ]
  },
  {
   "cell_type": "markdown",
   "metadata": {
    "id": "__gX6dSCyLrt"
   },
   "source": [
    " '### Your Answer Here ###'"
   ]
  },
  {
   "cell_type": "markdown",
   "metadata": {
    "id": "WEIHD5wqG9fK"
   },
   "source": [
    "**Answer:** Using chain rule we have,\n",
    "$$g_n^{'}(x) = 4 g_{n-1}^{'}(x)(1-g_{n-1}(x)) - 4 g_{n-1}^{'}(x) g_{n-1}(x) = 4 g_{n-1}^{'}(x) - 8g_{n-1}^{'}(x) g_{n-1}(x) $$"
   ]
  },
  {
   "cell_type": "markdown",
   "metadata": {
    "id": "bZc23QPvHjkJ"
   },
   "source": [
    "This implies that we can compute $g_{n}^{'}(x)$ in the forward mode if we could compute $g_{n-1}(x)$ and $g_{n-1}^{'}(x)$ in the forward mode. Indeed, this is possible by applying the same logic to $g_{n-1}^{'}(x)$ and compute it based on $g_{n-2}(x)$ and $g_{n-2}^{'}(x)$; In other words, by augmenting the forward computation graph $g_1 \\to g_2 \\dots \\to g_n$ with $(g_1, g_1^{'})\\to (g_2,g_2^{'}),\\dots \\to (g_n,g_n^{'})$ we can compute the derivative in a forward pass.\n",
    "\n",
    "**Question 6 (8 points):** Modify the functions `op` and `operation` with their counterparts `op_with_grad` and `operation_with_grad` using the logic explained above to compute the derivative of $g_n$. Check your function by evaluating it at $x=1$."
   ]
  },
  {
   "cell_type": "code",
   "execution_count": 9,
   "metadata": {
    "id": "pP-kBw5SKjxV"
   },
   "outputs": [
    {
     "data": {
      "image/png": "[encoded data removed]",
      "text/latex": [
       "$\\displaystyle \\left( 0.0, \\  -64.0\\right)$"
      ],
      "text/plain": [
       "(0.0, -64.0)"
      ]
     },
     "execution_count": 9,
     "metadata": {},
     "output_type": "execute_result"
    }
   ],
   "source": [
    "### Your Code Here ###\n",
    "def op_with_grad(inp, grad):\n",
    "  # inp could be any function of x.\n",
    "  # grad is the corresponsing derivative of inp with respect to x.\n",
    "  # The function should return a tuple where the first element is the `op` applied to inp\n",
    "  # and the second element should be the gradient of op(inp) with respect to x.\n",
    "    return(op(inp), 4*grad-8*grad*inp)\n",
    "    pass\n",
    "\n",
    "    \n",
    "\n",
    "def operation_with_grad(inp, n = 1):\n",
    "  # inp represents x here.\n",
    "  # This function should output a tuple where the first element is the value of g_n(inp)\n",
    "  # and the second element should be the derivative evaluated at inp, i.e. g_n^'(inp)\n",
    "    temp = inp\n",
    "    grad = 1\n",
    "    for i in range(n):\n",
    "        temp, grad = op_with_grad(temp, grad) # apply this operation n times\n",
    "    return (temp, grad)\n",
    "    pass\n",
    "\n",
    "operation_with_grad(1.0, n = 3)"
   ]
  },
  {
   "cell_type": "markdown",
   "metadata": {
    "id": "wcGjDmqTNJHR"
   },
   "source": [
    "Fortunately, `torch` can do last part for us! As was discussed in class, `torch` interprets our code and builds up a computation graph using operations that knows their gradients already and complements each operation with their backward gradient; in order to compute the gradient it follows the following backwards path\n",
    "\n",
    "$$ (g_n, \\frac{\\partial}{\\partial g_n}g_n) \\to (g_{n-1}, \\frac{\\partial}{\\partial g_{n-1}}g_{n}) \\to (g_1, \\frac{\\partial}{\\partial g_1}g_n) \\to (g_0, \\frac{\\partial}{\\partial g_0}g_n) $$\n",
    "\n",
    "where $g_0(x) = x$ is the identity function.\n",
    "\n",
    "**Question 7 (7 points):** Use PyTorch to calculate the derivative of g_n(x) with respect to x"
   ]
  },
  {
   "cell_type": "code",
   "execution_count": 53,
   "metadata": {
    "id": "lCqCnqiRR16v"
   },
   "outputs": [],
   "source": [
    "def torch_op(inp):\n",
    "    return 4 * inp * ( 1 - inp )\n",
    "\n",
    "def torch_operation(inp, n = 1):\n",
    "    temp = inp\n",
    "    for i in range(n):\n",
    "        temp = torch_op(temp)\n",
    "        temp.retain_grad()# apply this operation n times\n",
    "    return temp"
   ]
  },
  {
   "cell_type": "code",
   "execution_count": 60,
   "metadata": {
    "id": "sd-VpU56lFyB",
    "outputId": "3919daa5-e653-4186-9212-ddabc7fbdd53"
   },
   "outputs": [
    {
     "name": "stdout",
     "output_type": "stream",
     "text": [
      "-64.0\n"
     ]
    },
    {
     "data": {
      "text/plain": [
       "(tensor(16.), tensor(4.))"
      ]
     },
     "execution_count": 60,
     "metadata": {},
     "output_type": "execute_result"
    }
   ],
   "source": [
    "x = torch.tensor(1.0, requires_grad=True)\n",
    "\n",
    "#### Your code here #####\n",
    "# define the function with n=3 iterations as before, and use pytorch to autodiff it!\n",
    "y = torch_op(x)\n",
    "y.retain_grad()\n",
    "z = torch_op(y)\n",
    "z.retain_grad()\n",
    "gn = torch_op(z)\n",
    "# gn = torch_operation(x, n = 3)\n",
    "gn.backward()\n",
    "df_dx = x.grad\n",
    "print(df_dx.numpy())\n",
    "y.grad, z.grad"
   ]
  },
  {
   "cell_type": "code",
   "execution_count": 52,
   "metadata": {},
   "outputs": [
    {
     "data": {
      "text/plain": [
       "tensor([[5.8529]])"
      ]
     },
     "execution_count": 52,
     "metadata": {},
     "output_type": "execute_result"
    }
   ],
   "source": [
    "xx = torch.randn(1,1, requires_grad = True)\n",
    "yy = 3*xx\n",
    "yy.retain_grad()\n",
    "zz = yy**2\n",
    "zz.backward()\n",
    "\n",
    "xx.grad \n",
    "yy.grad"
   ]
  },
  {
   "cell_type": "code",
   "execution_count": 3,
   "metadata": {},
   "outputs": [],
   "source": [
    "a = torch.tensor([2., 3.], requires_grad=True)\n",
    "b = torch.tensor([6., 4.], requires_grad=True)\n",
    "Q = 3*a**3 - b**2\n",
    "external_grad = torch.tensor([1., 1.])\n",
    "Q.backward(gradient=external_grad)"
   ]
  },
  {
   "cell_type": "code",
   "execution_count": 1,
   "metadata": {},
   "outputs": [
    {
     "name": "stdout",
     "output_type": "stream",
     "text": [
      "tensor([[-2.4076, -1.4076, -0.4076],\n",
      "        [-2.4076, -1.4076, -0.4076]])\n"
     ]
    }
   ],
   "source": [
    "import torch\n",
    "# create a 2x3 input tensor\n",
    "input_tensor = torch.tensor([[1.0, 2.0, 3.0],\n",
    "                             [4.0, 5.0, 6.0]])\n",
    "# apply log_softmax along dimension 1\n",
    "output_tensor = torch.nn.functional.log_softmax(input_tensor, dim=1)\n",
    "print(output_tensor)"
   ]
  },
  {
   "cell_type": "code",
   "execution_count": 2,
   "metadata": {},
   "outputs": [
    {
     "data": {
      "text/plain": [
       "tensor([3, 4, 0])"
      ]
     },
     "execution_count": 2,
     "metadata": {},
     "output_type": "execute_result"
    }
   ],
   "source": [
    "torch.empty(3, dtype=torch.long).random_(5)"
   ]
  }
 ],
 "metadata": {
  "colab": {
   "provenance": []
  },
  "kernelspec": {
   "display_name": "Python 3 (ipykernel)",
   "language": "python",
   "name": "python3"
  },
  "language_info": {
   "codemirror_mode": {
    "name": "ipython",
    "version": 3
   },
   "file_extension": ".py",
   "mimetype": "text/x-python",
   "name": "python",
   "nbconvert_exporter": "python",
   "pygments_lexer": "ipython3",
   "version": "3.8.15"
  }
 },
 "nbformat": 4,
 "nbformat_minor": 4
}
