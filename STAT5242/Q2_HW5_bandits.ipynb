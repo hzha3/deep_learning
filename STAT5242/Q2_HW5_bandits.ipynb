{
 "cells": [
  {
   "cell_type": "code",
   "execution_count": 1,
   "metadata": {
    "id": "Ti4oXuDdyumD"
   },
   "outputs": [],
   "source": [
    "import numpy as np\n",
    "import matplotlib.pyplot as plt"
   ]
  },
  {
   "cell_type": "markdown",
   "metadata": {
    "id": "FIecl7CJy5W1"
   },
   "source": [
    "# Exercise: Thompson sampling for a 5-armed bandit with Gaussian rewards\n",
    "\n",
    "In this exercise, you will derive a Thompson sampling algorithm for the 5-armed bandit problem with normally distributed rewards. We will use bandits with unit-variance reward distributions, so that $$\n",
    "R_t\\mid A_t=k \\thicksim N(\\theta_k, 1).\n",
    "$$\n",
    "In other words, if we take action $k$, where $k\\in\\{1,2,3,4,5\\}$ at time $t$, then we will receive a reward drawn from a normal distribution with mean $\\theta_k$ and variance 1.\n",
    "\n",
    "Below, we will use the prior distribution $\\mu_k\\thicksim N(0, 1)$.\n",
    "\n",
    "The first few questions will be mathematical derivations for parts of the sampling routine. Then, we will move on to simulating the bandit to see if it works!"
   ]
  },
  {
   "cell_type": "markdown",
   "metadata": {
    "id": "t7LMdrXZNRXM"
   },
   "source": [
    "## Deriving Thompson sampling"
   ]
  },
  {
   "cell_type": "markdown",
   "metadata": {
    "id": "tHQH7Ohs1IjC"
   },
   "source": [
    "Question 1: Normal-normal posterior with known variances\n",
    "\n",
    "Let $X\\thicksim N(a, \\sigma^2)$ be a normally distributed random variable with mean $a$ and variance $\\sigma^2$. Let $Y$ be normally distributed with mean $X$ and variance $\\tau^2$, i.e., $Y\\mid X=x\\thicksim N(x, \\tau^2)$.\n",
    "\n",
    "If we observe $Y=y$, what is the posterior distribution of $X$ given $Y=y$? Hint: use Bayes rule."
   ]
  },
  {
   "cell_type": "markdown",
   "metadata": {
    "id": "ZcklkzzI1n0X"
   },
   "source": [
    "> Answer:"
   ]
  },
  {
   "cell_type": "markdown",
   "metadata": {
    "id": "_frUA5Yc346Q"
   },
   "source": [
    "Question 2: Updating the posterior in Thompson sampling\n",
    "\n",
    "In Thompson sampling, after taking action $A_t=a_t$, we must update the posterior distribution for the bandit's $a_t$th arm. In this case, that means updating our posterior distribution for $\\mu_k$.\n",
    "\n",
    " 1. Say that at iteration $t-1$, our posterior distribution for $\\mu_k$ is $N(m_k(t-1),s^2_k(t-1))$. What is the posterior distribution of $\\mu_k$ at step $t$, after taking action $A_t=k$ and observing $R_t=r_t$? You should phrase your answer in terms of $m_k(t-1)$ and $s^2_k(t-1)$.\n",
    " 2. What is the posterior distribution of $\\mu_k$ after taking action $A_t=a_t$, where $a_t\\neq k$?\n",
    "\n",
    "Hint: use your answer from Question 1."
   ]
  },
  {
   "cell_type": "markdown",
   "metadata": {
    "id": "FsOJSwWSK_mT"
   },
   "source": [
    "> Answer:"
   ]
  },
  {
   "cell_type": "markdown",
   "metadata": {
    "id": "qLtRJHXZ1hSx"
   },
   "source": [
    "Question 3: Selecting the play\n",
    "\n",
    "In Thompson sampling, we select our ``play'' or action $A_t$ according to our posterior distribution: select $A_t=k$ with probability equal to our current (posterior) probability that $k$ is the best action.\n",
    "\n",
    "Based on the Bernoulli example from lecture, derive a method for picking $A_t$, and show that it chooses $A_t=k$ with probability equal to $$P(\\mu_k > \\mu_i\\text{ for all }i\\neq k \\mid R_1,\\dots,R_{t-1},A_1,\\dots,A_{t-1}).$$"
   ]
  },
  {
   "cell_type": "markdown",
   "metadata": {
    "id": "nN064tji1lgQ"
   },
   "source": [
    "> Answer:"
   ]
  },
  {
   "cell_type": "markdown",
   "metadata": {
    "id": "-5kw3dBWNTfa"
   },
   "source": [
    "## Simulation"
   ]
  },
  {
   "cell_type": "markdown",
   "metadata": {
    "id": "4l5_mSZtOM_3"
   },
   "source": [
    "## Reproducible random number generation in NumPy\n",
    "\n",
    "First, a brief refresher on sampling random variables in NumPy. Of course, you have all done this before, but here is a tutorial in the best practice for reproducible random number generation using NumPy's latest tools. Here, \"reproducible\" means that the simulation will generate the same results across different runs, which is an important tool to have in your data science toolbox when you want to share results that others can replicate!"
   ]
  },
  {
   "cell_type": "code",
   "execution_count": 3,
   "metadata": {
    "colab": {
     "base_uri": "https://localhost:8080/"
    },
    "id": "ovQiA65Xy3e2",
    "outputId": "9c0cfa4e-df96-4c01-b29a-992fd8137f76"
   },
   "outputs": [
    {
     "name": "stdout",
     "output_type": "stream",
     "text": [
      "One sample: 10.251460442186787\n",
      "Five samples: [ 9.73579027 11.2808453  10.20980023  8.92866125 10.72319011]\n",
      "Samples with 3 means: [1.30400005 5.94708096 9.29626476]\n"
     ]
    }
   ],
   "source": [
    "# here, we instantiate a random generator, which can be used\n",
    "# to sample random variables\n",
    "# this is a Generator object, see: https://numpy.org/doc/stable/reference/random/generator.html\n",
    "# Notice that we set the seed here. This means that\n",
    "# repeated runs of this notebook will have the same\n",
    "# behavior.\n",
    "rg = np.random.default_rng(0)\n",
    "\n",
    "# to draw samples from a normal random variable with mean mu\n",
    "# and standard deviation sigma, we can do it like so:\n",
    "mu = 10\n",
    "sigma = 2\n",
    "sample = rg.normal(loc=mu, scale=sigma)\n",
    "print(\"One sample:\", sample)\n",
    "\n",
    "# to draw multiple samples, we can use\n",
    "samples = rg.normal(loc=mu, scale=sigma, size=5)\n",
    "print(\"Five samples:\", samples)\n",
    "\n",
    "# if we want to sample from multiple means at once\n",
    "# using a shared standard deviation, we can use:\n",
    "mu_vec = [0, 5, 10]\n",
    "sigma = 1\n",
    "mu_samples = rg.normal(loc=mu_vec, scale=sigma)\n",
    "print(\"Samples with 3 means:\", mu_samples)\n",
    "# notice that `mu_samples.shape == (3,)`!"
   ]
  },
  {
   "cell_type": "markdown",
   "metadata": {
    "id": "ew8Eoff0Pr2-"
   },
   "source": [
    "The most important thing to notice above is that the `scale` parameter is the standard deviation, not the variance!\n",
    "\n",
    "Below, please use `rg` to draw your random numbers. The documentation for the `normal` function is here: https://numpy.org/doc/stable/reference/random/generated/numpy.random.Generator.normal.html"
   ]
  },
  {
   "cell_type": "markdown",
   "metadata": {
    "id": "Svs0jXRQRe9J"
   },
   "source": [
    "Question 4: coding up a bandit simulation\n",
    "\n",
    "The following code stencil will help you to write a function which simulates the Thompson sampling algorithm derived in Questions 1-3."
   ]
  },
  {
   "cell_type": "code",
   "execution_count": 9,
   "metadata": {
    "id": "i30rhkBmPUOf"
   },
   "outputs": [],
   "source": [
    "# parameters\n",
    "n_iter = 10000\n",
    "\n",
    "# define the true parameters of the bandit\n",
    "# this is the truth that we want to learn below!\n",
    "mu = rg.normal(loc=0, scale=1, size=5)\n",
    "\n",
    "# setup\n",
    "# These arrays will store the parameters of the current\n",
    "# posterior distribution for mu. Initialize them according\n",
    "# to the prior above.\n",
    "m_t = np.zeros((n_iter+1, 5)) # Your code here\n",
    "s2_t = np.ones((n_iter+1, 5)) # Your code here\n",
    "\n",
    "# bandit loop\n",
    "rewards = []\n",
    "regrets = []\n",
    "for t in range(n_iter):\n",
    "    # 4.a\n",
    "    # -- pick an action\n",
    "    # Take as many lines as you need to implement the strategy\n",
    "    # derived in question 3. Your action should be a number\n",
    "    # from 0,1,2,3,4 (zero-indexed like Python).\n",
    "    # Your code here\n",
    "    mu_samples = []\n",
    "    for i in range(5):\n",
    "        mu_samples.append(rg.normal(loc = m_t[t, i], scale = np.sqrt(s2_t[t, i])))\n",
    "    a_t = np.argmax(mu_samples)\n",
    "\n",
    "    # 4.b\n",
    "    # -- get a reward\n",
    "    # Sample r_t from the bandit arm corresponding to the action a_t\n",
    "    # Your code here\n",
    "    r_t = rg.normal(loc =mu[a_t], scale = 1)\n",
    "\n",
    "    # 4.c\n",
    "    # -- update posterior\n",
    "    # Update the posterior parameters for the bandit arm corresponding\n",
    "    # to the action a_t\n",
    "    # Your code here\n",
    "    for i in range(5):\n",
    "        if i == a_t:\n",
    "            m_t[t+1, a_t] = (s2_t[t, a_t]* r_t+ m_t[t, a_t])/ (s2_t[t, a_t]+1)\n",
    "            s2_t[t+1, a_t] = s2_t[t, a_t] / (s2_t[t, a_t]+1)\n",
    "        else:\n",
    "            m_t[t+1, i] = m_t[t, i]\n",
    "            s2_t[t+1, i] = s2_t[t, i]\n",
    "    \n",
    "    # 4.d\n",
    "    # -- compute regret\n",
    "    # Compute the regret from the previous iteration, and assign it\n",
    "    # to the variable `regret`\n",
    "    # Your code here\n",
    "    regret = mu.max()- mu[a_t]\n",
    "\n",
    "    # -- track performance\n",
    "    # Let's keep track of the reward and regret at each iteration\n",
    "    # so that we can plot them below.\n",
    "    rewards.append(r_t)\n",
    "    regrets.append(regret)"
   ]
  },
  {
   "cell_type": "markdown",
   "metadata": {
    "id": "r1mQ7CuwjxUf"
   },
   "source": [
    "Question 5: Plotting the results\n",
    "\n",
    "(5.a): Plot the average reward $\\frac{1}{t}\\sum_{i=1}^t r_t$ as a function of $t$"
   ]
  },
  {
   "cell_type": "code",
   "execution_count": 10,
   "metadata": {
    "colab": {
     "base_uri": "https://localhost:8080/",
     "height": 435
    },
    "id": "wivT5XwfgNzX",
    "outputId": "ebc00e5a-5da9-4a48-d0a2-124e879e1266"
   },
   "outputs": [
    {
     "data": {
      "image/png": "[encoded data removed]",
      "text/plain": [
       "<Figure size 640x480 with 1 Axes>"
      ]
     },
     "metadata": {},
     "output_type": "display_data"
    }
   ],
   "source": [
    "# 5.a: your code here\n",
    "# plot the average reward\n",
    "avg_reward = [rewards[0]]\n",
    "for i in range(1,len(rewards)):\n",
    "    avg_reward.append(np.mean(rewards[:i]))\n",
    "plt.plot(avg_reward)\n",
    "# here, we will add the maximum expected reward to the plot\n",
    "# for you to compare against\n",
    "plt.axhline(mu.max(), color=\"k\", label=\"maximum expected reward $\\\\max_k\\\\mu_k$\")\n",
    "plt.legend();"
   ]
  },
  {
   "cell_type": "markdown",
   "metadata": {
    "id": "t39SGtA_kY43"
   },
   "source": [
    "(5.b) Plot the regret using a logarithmic horizontal axis\n",
    "\n",
    "In the lecture, it was mentioned that Thompson sampling asymptotically achieves logarithmic total regret. So, if we plot the total regret using a logarithmic horizontal axis, we should expect to see something that *eventually* looks linear (it won't necessarily at the beginning).\n",
    "\n",
    "Recall, the total regret is the running sum of the regrets at each iteration.\n",
    "\n",
    "Hint: the function `plt.semilogx()` could help! https://matplotlib.org/stable/api/_as_gen/matplotlib.pyplot.semilogx.html"
   ]
  },
  {
   "cell_type": "code",
   "execution_count": 11,
   "metadata": {
    "id": "HF1-UI1xlwmA"
   },
   "outputs": [
    {
     "data": {
      "image/png": "[encoded data removed]",
      "text/plain": [
       "<Figure size 640x480 with 1 Axes>"
      ]
     },
     "metadata": {},
     "output_type": "display_data"
    }
   ],
   "source": [
    "# your code here\n",
    "total_regret = []\n",
    "for i in range(1,len(regrets)+1):\n",
    "    total_regret.append(np.sum(regrets[:i]))\n",
    "    \n",
    "plt.semilogx(np.array(range(n_iter))+1, total_regret)\n",
    "plt.show()"
   ]
  },
  {
   "cell_type": "markdown",
   "metadata": {
    "id": "c7gnI7CSH2DA"
   },
   "source": [
    "# Second Part: Gradient bandit\n",
    "\n",
    "In this exercise, you would implement the gradient bandit algorithm for multi-armed bandit problem. We would use the same problem setup as in the thompson sampling problem.\n",
    "\n",
    "Instead of learning the value function, the gradient bandit method directly learns the __policy__ $\\pi$, which is a distribution over all possible actions. In the multi-armed bandit case, the policy is defined through the preference function $H$ as follows:\n",
    "\n",
    "$$\\pi_H(a) \\triangleq Pr(Action = a|H) = \\frac{e^{H(a)}}{\\sum_{b=1}^k e^{H(b)}} \\qquad  (1)$$\n",
    "\n",
    "One key observation is that the preference function $H(a)$ is exactly the _logits_ we've seen in previous exercise. In this case, the higher $H(a)$ is relatively to other $H(a')$, the action $a$ is more __preferred__ than other actions $a'$, hence the name __preference__."
   ]
  },
  {
   "cell_type": "markdown",
   "metadata": {
    "id": "hxOwdrkjy52Q"
   },
   "source": [
    "## Step 1. The logsumexp trick\n",
    "\n",
    "Directly computing the probability using eq (1) can result in under- or overflow when exponentiating large values.\n",
    "The `logsumexp` trick is a numerically stable way to compute the probability given in eq (1):\n",
    "\n",
    "$$\\pi_H(a)= \\frac{e^{H(a)}}{\\sum_{b=1}^k e^{H(b)}} = \\frac{e^{H(a) - c}}{\\sum_{b=1}^k e^{H(b)-c}}$$\n",
    "where $c = \\max_{b=1}^k e^{H(b)}$.\n",
    "\n",
    "### Question 1\n",
    "\n",
    "Implement the function below that computes the probability (i.e. policy) from the logits (i.e. preference) using the `logsumexp` trick.\n",
    "\n",
    "You may use the `scipy.sepcial.logsumexp` function imported below (or not)."
   ]
  },
  {
   "cell_type": "code",
   "execution_count": 12,
   "metadata": {
    "id": "oNvP8mIoMVbi"
   },
   "outputs": [],
   "source": [
    "from scipy.special import logsumexp"
   ]
  },
  {
   "cell_type": "code",
   "execution_count": 13,
   "metadata": {
    "id": "F0BFtOll1qG3"
   },
   "outputs": [],
   "source": [
    "def get_probs(logits):\n",
    "    ### you code here###\n",
    "    # expected: 1-3 lines of codes\n",
    "    # logits is a one-dimensional array, compute the corresponding probability using the logsumexp trick\n",
    "    c = logits.max()\n",
    "    probs = np.exp(logits- c-logsumexp(logits-c))\n",
    "    return probs"
   ]
  },
  {
   "cell_type": "markdown",
   "metadata": {
    "id": "GsffFP592Jph"
   },
   "source": [
    "## Step 2. Deriving the gradient bandit\n",
    "\n",
    "We would first describe the general policy gradient method, and then discuss its application to the multi-armed bandit problem.\n",
    "\n",
    "The goal of the policy gradient method is to optimize the policy $\\pi_H$ such that the expected reward is maximized, i.e. the optimal $\\pi^*$ is such that\n",
    "\n",
    "$$\\pi^* = \\arg\\max_\\pi \\mathbb{E}_{\\pi(a)} [R(a)]  \\qquad (2)$$\n",
    "\n",
    "### Step 2.1 The REINFORCE trick: a general policy gradient method\n",
    "Suppose the policy $\\pi$ is parameterized by $\\theta$. The optimization problem (2) is equivalent to the following\n",
    "\n",
    "$$\\theta^* = \\arg \\max_\\theta  \\mathbb{E}_{\\pi_\\theta(a)} [R(a)] \\qquad (3)$$\n",
    "\n",
    "To solve this optimization problem, we could use gradient ascent algorithm. Let's first compute the gradient of the expected reward:\n",
    "\n",
    "$$\\nabla_\\theta \\mathbb{E}_{\\pi_\\theta (a)} [R(a)] = \\nabla_\\theta \\int \\pi_\\theta (a) R(a)da $$\n",
    "\n",
    "To compute this gradient exactly, we would need to integrate over all possible actions (the action space could be inifitely-dimensional, or finite-dimension as in the multi-armed bandit problem in which case the integration becomes a summation, but the dimensions could stil be high). We would like to avoid this integration. The REINFORCE trick shows that\n",
    "$$\\nabla_\\theta \\mathbb{E}_{\\pi_\\theta (a)} [R(a)] = \\mathbb{E}_{\\pi_\\theta (a)} [R(a) \\nabla_\\theta \\log \\pi_\\theta(a)] \\qquad (5)$$\n",
    "\n",
    "The implication is that we could obtain a stochastic estimate, and then apply stochastic gradient ascent. That is, randomly sample an action $a$ from $\\pi_\\theta$, and then obtain a stochastic gradient $R(a) \\nabla_\\theta \\log \\pi_\\theta(a)$, which is an unbiased estimate of the true exact gradient $\\nabla_\\theta \\mathbb{E}_{\\pi_\\theta (a)} [R(a)]$."
   ]
  },
  {
   "cell_type": "markdown",
   "metadata": {
    "id": "jyrFWyDH8Y7H"
   },
   "source": [
    "\n",
    "### Question 2: Prove the REINFORCE trick eq (5).\n",
    "\n",
    "Hint: Use $\\frac{d}{dx} \\log f(x) = \\frac{1}{f(x)} \\frac{d f(x)}{dx}$.\n",
    "\n",
    "### YOUR ANSWER HERE ###"
   ]
  },
  {
   "cell_type": "markdown",
   "metadata": {
    "id": "67k5lhAy8WS3"
   },
   "source": []
  },
  {
   "cell_type": "markdown",
   "metadata": {
    "id": "NVIkyX0x8-ud"
   },
   "source": [
    "### Introducing the baseline\n",
    "\n",
    "Despite the REINFORCEMENT trick is computationally favorable, it also comes with high variance. One way to reduce the variance of the stochastic gradient estimate is to introduce a baseline $B$ which does not depend on the action: instead of using $R(a) \\nabla_\\theta \\log \\pi_\\theta(a)$ as the stochastic gradient estimate, we use $(R(a) - B) \\nabla_\\theta \\log \\pi_\\theta(a)$."
   ]
  },
  {
   "cell_type": "markdown",
   "metadata": {
    "id": "IkqTkrh_-Ikc"
   },
   "source": [
    "### Question 3\n",
    "\n",
    "To justify the use of baseline, we need to make sure the new gradient estimate is also unbiased, i.e. show the following\n",
    "\n",
    "$$  \\mathbb{E}_{\\pi_\\theta (a)} [R(a) \\nabla_\\theta \\log \\pi_\\theta(a)]  = \\mathbb{E}_{\\pi_\\theta (a)} [(R(a)  - B ) \\nabla_\\theta \\log \\pi_\\theta(a)]  \\qquad (6) $$\n",
    "\n",
    "Hint: (1) Use $\\frac{d}{dx} \\log f(x) = \\frac{1}{f(x)} \\frac{d f(x)}{dx}$, (2) exchange gradient with the integral, and (3) remember any probability distribution $\\pi_\\theta $ integrates to 1.\n",
    "\n",
    "### YOUR ANSWER HERE ###"
   ]
  },
  {
   "cell_type": "markdown",
   "metadata": {
    "id": "Mz4MtAMe-GC-"
   },
   "source": []
  },
  {
   "cell_type": "markdown",
   "metadata": {
    "id": "3FPBX-Hk_Ivs"
   },
   "source": [
    "### Step 2.2 Applying to the multi-armed bandit problem.\n",
    "\n",
    "Let's get back to the multi-armed bandit setting. In this case, the policy $\\pi$ is parameterized by the preference vector $H$, i.e. $\\pi = \\pi_H$. The task is this step is to compute the gradient.\n",
    "\n",
    "In principle, we could use any autodiff method we've learned before to automatically compute $\\nabla_H \\log \\pi_H$. However, we would work out the analytical expression for multi-armed bandit this time.\n",
    "\n",
    "### Question 4\n",
    "Show that\n",
    "\n",
    "$$\\frac{\\partial \\log \\pi_H (A)}{\\partial H(a)} = \\mathbb{1}\\{A=a\\} - \\pi_H(a)\\qquad (7)$$\n",
    "where we recall that $\\pi_H$ is computed using $H$ in eq (1).\n",
    "\n",
    "### YOUR ANSWER HERE ###"
   ]
  },
  {
   "cell_type": "markdown",
   "metadata": {
    "id": "pNGmx3M2Blv2"
   },
   "source": []
  },
  {
   "cell_type": "markdown",
   "metadata": {
    "id": "fcmmJTLVDTAD"
   },
   "source": [
    "### Step 2.3 Instantiating the gradient ascent rule\n",
    "\n",
    "Having derived the gradient estimate, we can now write down the update rule for the preference parameter using the gradient ascent method:\n",
    "\n",
    "$$H_{t+1}(a) \\leftarrow H_t(A_t) + \\alpha (R_t - B_t) (\\mathbb{1} \\{A_t = a\\} -\\pi_t(a)), \\forall a  \\qquad (8)$$\n",
    "\n",
    "where $A_t, R_t, B_t$ are the action, reward and baseline at iteration $t$, and $\\alpha$ is the learning rate.  "
   ]
  },
  {
   "cell_type": "markdown",
   "metadata": {
    "id": "B4MBivgsEbo6"
   },
   "source": [
    "### Step 3. Implement the gradiant bandit.\n",
    "\n",
    "### Question 5\n",
    "\n",
    "In the following code, implement the gradient bandit problem. Use the average reward $\\bar R_t$ as baseline. More specifically, when $t=0$, set $\\bar R_t = 0$. When $t \\geq 1$, set $\\bar R_t =\\frac{1}{t} \\sum_{i=0}^{t-1} R_i$."
   ]
  },
  {
   "cell_type": "code",
   "execution_count": 25,
   "metadata": {
    "colab": {
     "base_uri": "https://localhost:8080/",
     "height": 140
    },
    "id": "xZMVDOrzG6tm",
    "outputId": "e31e0936-0273-4686-eb70-ac0aec8f003c"
   },
   "outputs": [],
   "source": [
    "def gradient_bandit(n_iter, H_init, alpha, use_baseline=False):\n",
    "    H_t = H_init\n",
    "    K = H_init.shape[0]\n",
    "\n",
    "    rewards = []\n",
    "    regrets = []\n",
    "    actions = []\n",
    "    Hs = []\n",
    "\n",
    "    baseline = 0\n",
    "\n",
    "    for t in range(n_iter):\n",
    "        # 5.a\n",
    "        # compute the policy and then sample an action from the policy\n",
    "        ### YOUR CODE HERE####\n",
    "        # expected two lines of codes\n",
    "        pi_t = get_probs(H_t)\n",
    "#         a_t = np.argmax(pi_t)\n",
    "        a_t = np.random.choice(a = K, p = pi_t)\n",
    "        ######################\n",
    "        actions.append(a_t)\n",
    "\n",
    "        if use_baseline and t >= 1:\n",
    "            # 5.b\n",
    "            # update the baseline\n",
    "            ### YOUR CODE HERE ###\n",
    "            # expected 1 line of code\n",
    "            baseline = np.mean(rewards)\n",
    "            ######################\n",
    "\n",
    "        # 5.c\n",
    "        # get a reward\n",
    "        # Sample r_t from the bandit arm corresponding to the action a_t\n",
    "        ### YOUR CODE HERE ###\n",
    "        r_t = rg.normal(loc =mu[a_t], scale = 1)\n",
    "        ######################\n",
    "\n",
    "        # 5.d\n",
    "        # update policy\n",
    "        ### YOUR CODE HERE ###\n",
    "        # expected 3-6 lines of codes\n",
    "        for i in range(K):\n",
    "            if i==a_t:\n",
    "                H_t[i] = H_t[i]+ alpha* (r_t-baseline)* (1-get_probs(H_t)[i])\n",
    "            else:\n",
    "                H_t[i] = H_t[i]+ alpha* (r_t-baseline)* (-get_probs(H_t)[i])\n",
    "        ######################\n",
    "        Hs.append(H_t)\n",
    "\n",
    "        # 5.e\n",
    "        # -- compute regret\n",
    "        # Compute the regret from the previous iteration, and assign it\n",
    "        # to the variable `regret`\n",
    "        ### Your code here ###\n",
    "        regret = mu.max()- mu[a_t]\n",
    "        ######################\n",
    "\n",
    "        # -- track performance\n",
    "        # Let's keep track of the reward received at each iteration\n",
    "        # so that we can plot it below.\n",
    "        rewards.append(r_t)\n",
    "        regrets.append(regret)\n",
    "\n",
    "    return H_t, pi_t, rewards, regrets, actions"
   ]
  },
  {
   "cell_type": "code",
   "execution_count": 26,
   "metadata": {
    "id": "Tri4O80iWLGn"
   },
   "outputs": [],
   "source": [
    "n_iter = 1000\n",
    "alpha  = 0.1\n",
    "H_nobaseline, pi_nobaseline, rewards_nobaseline, regrets_nobaseline, actions_nobaseline = gradient_bandit(n_iter, np.zeros(5), alpha, use_baseline=False)\n",
    "H_baseline, pi_baseline, rewards_baseline, regrets_baseline, actions_baseline = gradient_bandit(n_iter, np.zeros(5), alpha, use_baseline=True)"
   ]
  },
  {
   "cell_type": "markdown",
   "metadata": {
    "id": "snejo7NgIUP6"
   },
   "source": [
    "You can view the final policies as below."
   ]
  },
  {
   "cell_type": "code",
   "execution_count": 27,
   "metadata": {
    "colab": {
     "base_uri": "https://localhost:8080/",
     "height": 447
    },
    "id": "RiWih_3qIEjR",
    "outputId": "3c2876c0-d587-4672-976d-10da17c2e424"
   },
   "outputs": [
    {
     "data": {
      "text/plain": [
       "<matplotlib.legend.Legend at 0x267636a17c0>"
      ]
     },
     "execution_count": 27,
     "metadata": {},
     "output_type": "execute_result"
    },
    {
     "data": {
      "image/png": "[encoded data removed]",
      "text/plain": [
       "<Figure size 640x480 with 1 Axes>"
      ]
     },
     "metadata": {},
     "output_type": "display_data"
    }
   ],
   "source": [
    "plt.plot(pi_nobaseline,'-.', label='without baseline')\n",
    "plt.plot(pi_baseline,'--', label='with baseline')\n",
    "plt.plot(mu, '-o', label='mu')\n",
    "plt.legend()"
   ]
  },
  {
   "cell_type": "markdown",
   "metadata": {
    "id": "mgryjg6PHW52"
   },
   "source": [
    "### Question 6\n",
    "\n",
    "Plotting the results as you did for thompson sampling problem."
   ]
  },
  {
   "cell_type": "code",
   "execution_count": 28,
   "metadata": {
    "id": "LEe8iVUFH4I8"
   },
   "outputs": [
    {
     "data": {
      "image/png": "[encoded data removed]",
      "text/plain": [
       "<Figure size 640x480 with 1 Axes>"
      ]
     },
     "metadata": {},
     "output_type": "display_data"
    }
   ],
   "source": [
    "### YOUR CODE HERE ###\n",
    "\n",
    "# 6.a: plot the average reward\n",
    "avg_reward = [rewards_nobaseline[0]]\n",
    "for i in range(1,len(rewards_nobaseline)):\n",
    "    avg_reward.append(np.mean(rewards_nobaseline[:i]))\n",
    "plt.plot(avg_reward)\n",
    "# here, we will add the maximum expected reward to the plot\n",
    "# for you to compare against\n",
    "plt.axhline(mu.max(), color=\"k\", label=\"maximum expected reward $\\\\max_k\\\\mu_k$\")\n",
    "plt.legend();"
   ]
  },
  {
   "cell_type": "code",
   "execution_count": 29,
   "metadata": {
    "id": "LyKj65u_HjJQ"
   },
   "outputs": [
    {
     "data": {
      "image/png": "[encoded data removed]",
      "text/plain": [
       "<Figure size 640x480 with 1 Axes>"
      ]
     },
     "metadata": {},
     "output_type": "display_data"
    }
   ],
   "source": [
    "# 6.b plot the cumulative regrets\n",
    "total_regret = []\n",
    "for i in range(1,len(regrets_nobaseline)+1):\n",
    "    total_regret.append(np.sum(regrets_nobaseline[:i]))\n",
    "    \n",
    "plt.semilogx(np.array(range(n_iter))+1, total_regret)\n",
    "plt.show()"
   ]
  },
  {
   "cell_type": "code",
   "execution_count": null,
   "metadata": {
    "id": "OxZesbMnwqaC"
   },
   "outputs": [],
   "source": []
  }
 ],
 "metadata": {
  "colab": {
   "provenance": []
  },
  "kernelspec": {
   "display_name": "Python 3 (ipykernel)",
   "language": "python",
   "name": "python3"
  },
  "language_info": {
   "codemirror_mode": {
    "name": "ipython",
    "version": 3
   },
   "file_extension": ".py",
   "mimetype": "text/x-python",
   "name": "python",
   "nbconvert_exporter": "python",
   "pygments_lexer": "ipython3",
   "version": "3.8.15"
  },
  "toc": {
   "base_numbering": 1,
   "nav_menu": {},
   "number_sections": false,
   "sideBar": false,
   "skip_h1_title": false,
   "title_cell": "Table of Contents",
   "title_sidebar": "Contents",
   "toc_cell": false,
   "toc_position": {},
   "toc_section_display": false,
   "toc_window_display": false
  }
 },
 "nbformat": 4,
 "nbformat_minor": 1
}
